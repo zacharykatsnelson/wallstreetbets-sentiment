{
 "cells": [
  {
   "cell_type": "code",
   "execution_count": 25,
   "id": "national-string",
   "metadata": {},
   "outputs": [],
   "source": [
    "import pandas as pd\n",
    "import numpy as np\n",
    "from tqdm import tqdm\n",
    "import matplotlib.pyplot as plt\n",
    "\n",
    "#importing models\n",
    "from sklearn.model_selection import GridSearchCV, train_test_split, cross_val_score\n",
    "from sklearn.preprocessing import StandardScaler\n",
    "from sklearn.pipeline import Pipeline\n",
    "#Importing different classifier from sklearn\n",
    "from sklearn.svm import SVC\n",
    "from sklearn.neighbors import KNeighborsClassifier\n",
    "from sklearn.tree import DecisionTreeClassifier\n",
    "from sklearn.linear_model import LogisticRegression\n",
    "from sklearn import svm\n",
    "from sklearn.naive_bayes import GaussianNB\n",
    "from sklearn.gaussian_process.kernels import RBF\n",
    "from sklearn.gaussian_process import GaussianProcessClassifier\n",
    "from sklearn.naive_bayes import MultinomialNB\n",
    "from sklearn.neural_network import MLPClassifier\n",
    "from sklearn.ensemble import RandomForestClassifier, AdaBoostClassifier\n",
    "from sklearn.metrics import classification_report, accuracy_score\n",
    "\n",
    "import warnings\n",
    "warnings.filterwarnings('ignore')\n",
    "\n",
    "%matplotlib inline"
   ]
  },
  {
   "cell_type": "code",
   "execution_count": 2,
   "id": "double-printing",
   "metadata": {},
   "outputs": [],
   "source": [
    "df = pd.read_csv('SPY_sentiment')"
   ]
  },
  {
   "cell_type": "code",
   "execution_count": 3,
   "id": "designed-engineer",
   "metadata": {},
   "outputs": [
    {
     "data": {
      "text/html": [
       "<div>\n",
       "<style scoped>\n",
       "    .dataframe tbody tr th:only-of-type {\n",
       "        vertical-align: middle;\n",
       "    }\n",
       "\n",
       "    .dataframe tbody tr th {\n",
       "        vertical-align: top;\n",
       "    }\n",
       "\n",
       "    .dataframe thead th {\n",
       "        text-align: right;\n",
       "    }\n",
       "</style>\n",
       "<table border=\"1\" class=\"dataframe\">\n",
       "  <thead>\n",
       "    <tr style=\"text-align: right;\">\n",
       "      <th></th>\n",
       "      <th>Date</th>\n",
       "      <th>Mentions</th>\n",
       "      <th>Sentiment</th>\n",
       "      <th>Up</th>\n",
       "    </tr>\n",
       "  </thead>\n",
       "  <tbody>\n",
       "    <tr>\n",
       "      <th>0</th>\n",
       "      <td>2018-08-01</td>\n",
       "      <td>85</td>\n",
       "      <td>0.094719</td>\n",
       "      <td>0</td>\n",
       "    </tr>\n",
       "    <tr>\n",
       "      <th>1</th>\n",
       "      <td>2018-08-02</td>\n",
       "      <td>127</td>\n",
       "      <td>0.027789</td>\n",
       "      <td>1</td>\n",
       "    </tr>\n",
       "    <tr>\n",
       "      <th>2</th>\n",
       "      <td>2018-08-03</td>\n",
       "      <td>97</td>\n",
       "      <td>0.102551</td>\n",
       "      <td>1</td>\n",
       "    </tr>\n",
       "    <tr>\n",
       "      <th>3</th>\n",
       "      <td>2018-08-06</td>\n",
       "      <td>101</td>\n",
       "      <td>0.004156</td>\n",
       "      <td>1</td>\n",
       "    </tr>\n",
       "    <tr>\n",
       "      <th>4</th>\n",
       "      <td>2018-08-07</td>\n",
       "      <td>120</td>\n",
       "      <td>0.063874</td>\n",
       "      <td>1</td>\n",
       "    </tr>\n",
       "    <tr>\n",
       "      <th>...</th>\n",
       "      <td>...</td>\n",
       "      <td>...</td>\n",
       "      <td>...</td>\n",
       "      <td>...</td>\n",
       "    </tr>\n",
       "    <tr>\n",
       "      <th>646</th>\n",
       "      <td>2021-03-01</td>\n",
       "      <td>1524</td>\n",
       "      <td>0.103251</td>\n",
       "      <td>1</td>\n",
       "    </tr>\n",
       "    <tr>\n",
       "      <th>647</th>\n",
       "      <td>2021-03-02</td>\n",
       "      <td>1303</td>\n",
       "      <td>0.158467</td>\n",
       "      <td>0</td>\n",
       "    </tr>\n",
       "    <tr>\n",
       "      <th>648</th>\n",
       "      <td>2021-03-03</td>\n",
       "      <td>2051</td>\n",
       "      <td>0.123551</td>\n",
       "      <td>0</td>\n",
       "    </tr>\n",
       "    <tr>\n",
       "      <th>649</th>\n",
       "      <td>2021-03-04</td>\n",
       "      <td>2285</td>\n",
       "      <td>0.082648</td>\n",
       "      <td>0</td>\n",
       "    </tr>\n",
       "    <tr>\n",
       "      <th>650</th>\n",
       "      <td>2021-03-05</td>\n",
       "      <td>2094</td>\n",
       "      <td>0.118778</td>\n",
       "      <td>1</td>\n",
       "    </tr>\n",
       "  </tbody>\n",
       "</table>\n",
       "<p>651 rows × 4 columns</p>\n",
       "</div>"
      ],
      "text/plain": [
       "           Date  Mentions  Sentiment  Up\n",
       "0    2018-08-01        85   0.094719   0\n",
       "1    2018-08-02       127   0.027789   1\n",
       "2    2018-08-03        97   0.102551   1\n",
       "3    2018-08-06       101   0.004156   1\n",
       "4    2018-08-07       120   0.063874   1\n",
       "..          ...       ...        ...  ..\n",
       "646  2021-03-01      1524   0.103251   1\n",
       "647  2021-03-02      1303   0.158467   0\n",
       "648  2021-03-03      2051   0.123551   0\n",
       "649  2021-03-04      2285   0.082648   0\n",
       "650  2021-03-05      2094   0.118778   1\n",
       "\n",
       "[651 rows x 4 columns]"
      ]
     },
     "execution_count": 3,
     "metadata": {},
     "output_type": "execute_result"
    }
   ],
   "source": [
    "df"
   ]
  },
  {
   "cell_type": "code",
   "execution_count": 4,
   "id": "pretty-riverside",
   "metadata": {},
   "outputs": [],
   "source": [
    "#Separate data into comment text (features) and subreddit (target variable)\n",
    "X = df[['Mentions', 'Sentiment']]\n",
    "y = df['Up']\n",
    "\n",
    "#Train test split. Stratify=y guarantees that class balance will be maintained across train and test bloc\n",
    "X_train, X_test, y_train, y_test = train_test_split(X,y,shuffle=True,stratify=y)"
   ]
  },
  {
   "cell_type": "code",
   "execution_count": 5,
   "id": "broken-secondary",
   "metadata": {},
   "outputs": [
    {
     "data": {
      "text/plain": [
       "1    0.545315\n",
       "0    0.454685\n",
       "Name: Up, dtype: float64"
      ]
     },
     "execution_count": 5,
     "metadata": {},
     "output_type": "execute_result"
    }
   ],
   "source": [
    "#baseline model\n",
    "y.value_counts(normalize=True)"
   ]
  },
  {
   "cell_type": "code",
   "execution_count": 18,
   "id": "higher-pacific",
   "metadata": {
    "scrolled": true
   },
   "outputs": [
    {
     "name": "stderr",
     "output_type": "stream",
     "text": [
      "[Parallel(n_jobs=1)]: Using backend SequentialBackend with 1 concurrent workers.\n",
      "[Parallel(n_jobs=1)]: Done   1 out of   1 | elapsed:    0.0s remaining:    0.0s\n",
      "[Parallel(n_jobs=1)]: Done   2 out of   2 | elapsed:    0.0s finished\n",
      "[Parallel(n_jobs=1)]: Using backend SequentialBackend with 1 concurrent workers.\n",
      "[Parallel(n_jobs=1)]: Done   1 out of   1 | elapsed:    0.0s remaining:    0.0s\n",
      "[Parallel(n_jobs=1)]: Done   2 out of   2 | elapsed:    0.0s finished\n",
      "[Parallel(n_jobs=1)]: Using backend SequentialBackend with 1 concurrent workers.\n",
      "[Parallel(n_jobs=1)]: Done   1 out of   1 | elapsed:    0.2s remaining:    0.0s\n"
     ]
    },
    {
     "name": "stdout",
     "output_type": "stream",
     "text": [
      "[CV]  ................................................................\n",
      "[CV] ................................................. , total=   0.0s\n",
      "[CV]  ................................................................\n",
      "[CV] ................................................. , total=   0.0s\n",
      "Logistic Regression: 0.5450819672131147 (0.02868852459016391)\n",
      "[CV]  ................................................................\n",
      "[CV] ................................................. , total=   0.0s\n",
      "[CV]  ................................................................\n",
      "[CV] ................................................. , total=   0.0s\n",
      "K Nearest Neighbors: 0.485655737704918 (0.006147540983606564)\n",
      "[CV]  ................................................................\n",
      "[CV] ................................................. , total=   0.2s\n",
      "[CV]  ................................................................\n",
      "[CV] ................................................. , total=   0.2s\n",
      "Gaussian Process: 0.46926229508196726 (0.0020491803278688547)\n",
      "[CV]  ................................................................\n",
      "[CV] ................................................. , total=   0.0s\n",
      "[CV]  ................................................................\n",
      "[CV] ................................................. , total=   0.0s\n",
      "Decision Tree: 0.5163934426229508 (0.02868852459016394)\n",
      "[CV]  ................................................................\n",
      "[CV] ................................................. , total=   0.0s\n",
      "[CV]  ................................................................\n",
      "[CV] ................................................. , total=   0.0s\n",
      "Random Forest: 0.5020491803278688 (0.010245901639344246)\n",
      "[CV]  ................................................................\n",
      "[CV] ................................................. , total=   0.0s\n",
      "[CV]  ................................................................\n",
      "[CV] ................................................. , total=   0.0s\n",
      "Neural Net: 0.5327868852459017 (0.016393442622950838)\n",
      "[CV]  ................................................................\n"
     ]
    },
    {
     "name": "stderr",
     "output_type": "stream",
     "text": [
      "[Parallel(n_jobs=1)]: Done   2 out of   2 | elapsed:    0.4s finished\n",
      "[Parallel(n_jobs=1)]: Using backend SequentialBackend with 1 concurrent workers.\n",
      "[Parallel(n_jobs=1)]: Done   1 out of   1 | elapsed:    0.0s remaining:    0.0s\n",
      "[Parallel(n_jobs=1)]: Done   2 out of   2 | elapsed:    0.0s finished\n",
      "[Parallel(n_jobs=1)]: Using backend SequentialBackend with 1 concurrent workers.\n",
      "[Parallel(n_jobs=1)]: Done   1 out of   1 | elapsed:    0.0s remaining:    0.0s\n",
      "[Parallel(n_jobs=1)]: Done   2 out of   2 | elapsed:    0.1s finished\n",
      "[Parallel(n_jobs=1)]: Using backend SequentialBackend with 1 concurrent workers.\n",
      "[Parallel(n_jobs=1)]: Done   1 out of   1 | elapsed:    0.0s remaining:    0.0s\n",
      "[Parallel(n_jobs=1)]: Done   2 out of   2 | elapsed:    0.1s finished\n",
      "[Parallel(n_jobs=1)]: Using backend SequentialBackend with 1 concurrent workers.\n"
     ]
    },
    {
     "name": "stdout",
     "output_type": "stream",
     "text": [
      "[CV] ................................................. , total=   0.1s\n",
      "[CV]  ................................................................\n",
      "[CV] ................................................. , total=   0.1s\n",
      "AddaBoost: 0.5 (0.0)\n",
      "[CV]  ................................................................\n",
      "[CV] ................................................. , total=   0.0s\n",
      "[CV]  ................................................................\n",
      "[CV] ................................................. , total=   0.0s\n",
      "Naive Bayes: 0.5491803278688525 (0.0245901639344262)\n",
      "[CV]  ................................................................\n",
      "[CV] ................................................. , total=   0.0s\n",
      "[CV]  ................................................................\n",
      "[CV] ................................................. , total=   0.0s\n",
      "SVM RBF: 0.48360655737704916 (0.03278688524590165)\n",
      "[CV]  ................................................................\n",
      "[CV] ................................................. , total=   0.0s\n",
      "[CV]  ................................................................\n",
      "[CV] ................................................. , total=   0.0s\n",
      "SVM Sigmoid: 0.4938524590163934 (0.010245901639344246)\n"
     ]
    },
    {
     "name": "stderr",
     "output_type": "stream",
     "text": [
      "[Parallel(n_jobs=1)]: Done   1 out of   1 | elapsed:    0.1s remaining:    0.0s\n",
      "[Parallel(n_jobs=1)]: Done   2 out of   2 | elapsed:    0.1s finished\n",
      "[Parallel(n_jobs=1)]: Using backend SequentialBackend with 1 concurrent workers.\n",
      "[Parallel(n_jobs=1)]: Done   1 out of   1 | elapsed:    0.0s remaining:    0.0s\n",
      "[Parallel(n_jobs=1)]: Done   2 out of   2 | elapsed:    0.0s finished\n",
      "[Parallel(n_jobs=1)]: Using backend SequentialBackend with 1 concurrent workers.\n",
      "[Parallel(n_jobs=1)]: Done   1 out of   1 | elapsed:    0.0s remaining:    0.0s\n",
      "[Parallel(n_jobs=1)]: Done   2 out of   2 | elapsed:    0.0s finished\n",
      "[Parallel(n_jobs=1)]: Using backend SequentialBackend with 1 concurrent workers.\n",
      "[Parallel(n_jobs=1)]: Done   1 out of   1 | elapsed:    0.0s remaining:    0.0s\n",
      "[Parallel(n_jobs=1)]: Done   2 out of   2 | elapsed:    0.0s finished\n"
     ]
    }
   ],
   "source": [
    "# Define scoring method\n",
    "scoring = 'accuracy'\n",
    "# Model building to train\n",
    "names = ['Logistic Regression', 'K Nearest Neighbors', 'Gaussian Process', 'Decision Tree', 'Random Forest', 'Neural Net', 'AddaBoost', 'Naive Bayes', 'SVM RBF', 'SVM Sigmoid']\n",
    "Classifiers = [\n",
    "    LogisticRegression(),\n",
    "    KNeighborsClassifier(n_neighbors = 3),\n",
    "    GaussianProcessClassifier(1.0*RBF(1.0)),\n",
    "    DecisionTreeClassifier(max_depth = 5),\n",
    "    RandomForestClassifier(max_depth = 5, n_estimators = 10, max_features = 1 ),\n",
    "    MLPClassifier(alpha = 1),\n",
    "    AdaBoostClassifier(),\n",
    "    GaussianNB(),\n",
    "    svm.SVC(kernel = 'rbf'),\n",
    "    svm.SVC(kernel = 'sigmoid')\n",
    "    \n",
    "    ]\n",
    "models = zip(names, Classifiers)\n",
    "# import KFold\n",
    "from sklearn.model_selection import KFold, cross_val_score\n",
    "\n",
    "names = []\n",
    "result = []\n",
    "for name, model in models:\n",
    "    kfold = KFold(n_splits = 2, random_state = 42)\n",
    "    cv_results = cross_val_score(model, X_train, y_train, cv = kfold, scoring = 'accuracy', verbose = 2)\n",
    "    result.append(cv_results)\n",
    "    names.append(name)\n",
    "    msg = \"{0}: {1} ({2})\".format(name, cv_results.mean(), cv_results.std())\n",
    "    print(msg)"
   ]
  },
  {
   "cell_type": "code",
   "execution_count": 19,
   "id": "voluntary-integer",
   "metadata": {
    "scrolled": true
   },
   "outputs": [
    {
     "name": "stdout",
     "output_type": "stream",
     "text": [
      "Logistic Regression\n",
      "0.5460122699386503\n",
      "              precision    recall  f1-score   support\n",
      "\n",
      "           0       0.00      0.00      0.00        74\n",
      "           1       0.55      1.00      0.71        89\n",
      "\n",
      "    accuracy                           0.55       163\n",
      "   macro avg       0.27      0.50      0.35       163\n",
      "weighted avg       0.30      0.55      0.39       163\n",
      "\n",
      "K Nearest Neighbors\n",
      "0.49079754601226994\n",
      "              precision    recall  f1-score   support\n",
      "\n",
      "           0       0.44      0.43      0.44        74\n",
      "           1       0.53      0.54      0.54        89\n",
      "\n",
      "    accuracy                           0.49       163\n",
      "   macro avg       0.49      0.49      0.49       163\n",
      "weighted avg       0.49      0.49      0.49       163\n",
      "\n",
      "Gaussian Process\n",
      "0.5276073619631901\n",
      "              precision    recall  f1-score   support\n",
      "\n",
      "           0       0.48      0.62      0.54        74\n",
      "           1       0.59      0.45      0.51        89\n",
      "\n",
      "    accuracy                           0.53       163\n",
      "   macro avg       0.54      0.54      0.53       163\n",
      "weighted avg       0.54      0.53      0.53       163\n",
      "\n",
      "Decision Tree\n",
      "0.5521472392638037\n",
      "              precision    recall  f1-score   support\n",
      "\n",
      "           0       0.52      0.20      0.29        74\n",
      "           1       0.56      0.84      0.67        89\n",
      "\n",
      "    accuracy                           0.55       163\n",
      "   macro avg       0.54      0.52      0.48       163\n",
      "weighted avg       0.54      0.55      0.50       163\n",
      "\n",
      "Random Forest\n",
      "0.49693251533742333\n",
      "              precision    recall  f1-score   support\n",
      "\n",
      "           0       0.42      0.28      0.34        74\n",
      "           1       0.53      0.67      0.59        89\n",
      "\n",
      "    accuracy                           0.50       163\n",
      "   macro avg       0.48      0.48      0.47       163\n",
      "weighted avg       0.48      0.50      0.48       163\n",
      "\n",
      "Neural Net\n",
      "0.5030674846625767\n",
      "              precision    recall  f1-score   support\n",
      "\n",
      "           0       0.46      0.55      0.50        74\n",
      "           1       0.55      0.46      0.50        89\n",
      "\n",
      "    accuracy                           0.50       163\n",
      "   macro avg       0.51      0.51      0.50       163\n",
      "weighted avg       0.51      0.50      0.50       163\n",
      "\n",
      "AddaBoost\n",
      "0.43558282208588955\n",
      "              precision    recall  f1-score   support\n",
      "\n",
      "           0       0.36      0.31      0.33        74\n",
      "           1       0.48      0.54      0.51        89\n",
      "\n",
      "    accuracy                           0.44       163\n",
      "   macro avg       0.42      0.43      0.42       163\n",
      "weighted avg       0.43      0.44      0.43       163\n",
      "\n",
      "Naive Bayes\n",
      "0.5214723926380368\n",
      "              precision    recall  f1-score   support\n",
      "\n",
      "           0       0.39      0.09      0.15        74\n",
      "           1       0.54      0.88      0.67        89\n",
      "\n",
      "    accuracy                           0.52       163\n",
      "   macro avg       0.46      0.49      0.41       163\n",
      "weighted avg       0.47      0.52      0.43       163\n",
      "\n",
      "SVM RBF\n",
      "0.5460122699386503\n",
      "              precision    recall  f1-score   support\n",
      "\n",
      "           0       0.00      0.00      0.00        74\n",
      "           1       0.55      1.00      0.71        89\n",
      "\n",
      "    accuracy                           0.55       163\n",
      "   macro avg       0.27      0.50      0.35       163\n",
      "weighted avg       0.30      0.55      0.39       163\n",
      "\n",
      "SVM Sigmoid\n",
      "0.49693251533742333\n",
      "              precision    recall  f1-score   support\n",
      "\n",
      "           0       0.44      0.43      0.44        74\n",
      "           1       0.54      0.55      0.54        89\n",
      "\n",
      "    accuracy                           0.50       163\n",
      "   macro avg       0.49      0.49      0.49       163\n",
      "weighted avg       0.50      0.50      0.50       163\n",
      "\n"
     ]
    }
   ],
   "source": [
    "#Test the algorithm on the test data set\n",
    "models = zip(names, Classifiers)\n",
    "for name, model in models:\n",
    "    model.fit(X_train, y_train)\n",
    "    y_pred = model.predict(X_test)\n",
    "    print(name)\n",
    "    print(accuracy_score(y_test, y_pred))\n",
    "    print(classification_report(y_test, y_pred))"
   ]
  },
  {
   "cell_type": "markdown",
   "id": "welcome-reservation",
   "metadata": {},
   "source": [
    "Vader sentiment analysis model (located in SPY_data.py) was optimized by adding in specific key reddit/wsb words with associated scores (from -4.0 to 4.0)."
   ]
  },
  {
   "cell_type": "markdown",
   "id": "postal-costume",
   "metadata": {},
   "source": [
    "# Model Optimization"
   ]
  },
  {
   "cell_type": "code",
   "execution_count": 47,
   "id": "stylish-medication",
   "metadata": {},
   "outputs": [],
   "source": [
    "pipe = Pipeline([('ss', StandardScaler(with_mean=False)), \n",
    "               ('logreg', LogisticRegression())])"
   ]
  },
  {
   "cell_type": "code",
   "execution_count": 50,
   "id": "robust-verse",
   "metadata": {},
   "outputs": [],
   "source": [
    "grid_values = {'logreg__penalty': ['l1', 'l2', 'elasticnet'],\n",
    "               'logreg__C': np.logspace(-3,3,7)}"
   ]
  },
  {
   "cell_type": "code",
   "execution_count": 52,
   "id": "ordered-austin",
   "metadata": {},
   "outputs": [
    {
     "name": "stdout",
     "output_type": "stream",
     "text": [
      "Train Accuracy:  0.5450819672131147\n",
      "Test Accuracy:  0.5766871165644172\n",
      "BP:  {'logreg__C': 1.0, 'logreg__penalty': 'l2'}\n"
     ]
    }
   ],
   "source": [
    "results = {} \n",
    "\n",
    "grid = GridSearchCV(pipe, grid_values, cv=2) \n",
    "grid.fit(X_train, y_train) \n",
    "\n",
    "print('Train Accuracy: ',grid.score(X_train, y_train))\n",
    "results['train_accuracy'] = grid.score(X_train, y_train) \n",
    "\n",
    "print('Test Accuracy: ',grid.score(X_test, y_test))\n",
    "results['test_accuracy'] = grid.score(X_test, y_test) \n",
    "\n",
    "print('BP: ',grid.best_params_)\n",
    "results['bp'] = grid.best_params_ "
   ]
  },
  {
   "cell_type": "code",
   "execution_count": 69,
   "id": "statutory-marking",
   "metadata": {},
   "outputs": [
    {
     "data": {
      "image/png": "[encoded data removed]",
      "text/plain": [
       "<Figure size 432x288 with 2 Axes>"
      ]
     },
     "metadata": {
      "needs_background": "light"
     },
     "output_type": "display_data"
    }
   ],
   "source": [
    "from sklearn.metrics import plot_confusion_matrix\n",
    "disp = plot_confusion_matrix(grid.best_estimator_, X_test, y_test,\n",
    "                                 cmap=plt.cm.Blues)\n",
    "plt.show()"
   ]
  },
  {
   "cell_type": "markdown",
   "id": "simple-kuwait",
   "metadata": {},
   "source": [
    "Model is very bullish overall, which is reflective of the current market."
   ]
  },
  {
   "cell_type": "code",
   "execution_count": 58,
   "id": "organizational-coordinator",
   "metadata": {},
   "outputs": [
    {
     "data": {
      "image/png": "[encoded data removed]",
      "text/plain": [
       "<Figure size 432x288 with 1 Axes>"
      ]
     },
     "metadata": {
      "needs_background": "light"
     },
     "output_type": "display_data"
    }
   ],
   "source": [
    "import sklearn.metrics as metrics\n",
    "# calculate the fpr and tpr for all thresholds of the classification\n",
    "probs = grid.predict_proba(X_test)\n",
    "preds = probs[:,1]\n",
    "fpr, tpr, threshold = metrics.roc_curve(y_test, preds)\n",
    "roc_auc = metrics.auc(fpr, tpr)\n",
    "\n",
    "# method I: plt\n",
    "import matplotlib.pyplot as plt\n",
    "plt.title('Receiver Operating Characteristic')\n",
    "plt.plot(fpr, tpr, 'b', label = 'AUC = %0.2f' % roc_auc)\n",
    "plt.legend(loc = 'lower right')\n",
    "plt.plot([0, 1], [0, 1],'r--')\n",
    "plt.xlim([0, 1])\n",
    "plt.ylim([0, 1])\n",
    "plt.ylabel('True Positive Rate')\n",
    "plt.xlabel('False Positive Rate')\n",
    "plt.show()\n"
   ]
  },
  {
   "cell_type": "code",
   "execution_count": 64,
   "id": "prostate-factory",
   "metadata": {},
   "outputs": [],
   "source": [
    "import pickle\n",
    "filename = 'finalized_model.sav'\n",
    "pickle.dump(grid, open(filename, 'wb'))"
   ]
  },
  {
   "cell_type": "code",
   "execution_count": 65,
   "id": "affiliated-radical",
   "metadata": {},
   "outputs": [
    {
     "name": "stdout",
     "output_type": "stream",
     "text": [
      "0.5766871165644172\n"
     ]
    }
   ],
   "source": [
    "# load the model from disk\n",
    "loaded_model = pickle.load(open(filename, 'rb'))\n",
    "result = loaded_model.score(X_test, y_test)\n",
    "print(result)"
   ]
  }
 ],
 "metadata": {
  "kernelspec": {
   "display_name": "Python 3",
   "language": "python",
   "name": "python3"
  },
  "language_info": {
   "codemirror_mode": {
    "name": "ipython",
    "version": 3
   },
   "file_extension": ".py",
   "mimetype": "text/x-python",
   "name": "python",
   "nbconvert_exporter": "python",
   "pygments_lexer": "ipython3",
   "version": "3.8.5"
  }
 },
 "nbformat": 4,
 "nbformat_minor": 5
}
